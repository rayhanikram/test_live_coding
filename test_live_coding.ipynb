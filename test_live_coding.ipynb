{
 "cells": [
  {
   "cell_type": "code",
   "execution_count": 9,
   "metadata": {},
   "outputs": [
    {
     "name": "stdout",
     "output_type": "stream",
     "text": [
      "Output: 2\n",
      "Output: 1\n",
      "Output: 2\n"
     ]
    }
   ],
   "source": [
    "\n",
    "\n",
    "def countPairs(numbers,value):\n",
    "    operated_number = []\n",
    "    count = 0\n",
    "    for num in numbers:\n",
    "        for num2 in numbers:\n",
    "            if f'{num} {num2}' not in operated_number and f'{num2} {num}' not in operated_number :\n",
    "                operated_number.append('%s %s'%(str(num),str(num2)))\n",
    "                operated_number.append('%s %s'%(str(num2),str(num)))\n",
    "                if num + num2 == value:\n",
    "                    count += 1\n",
    "            else:\n",
    "                pass\n",
    "    print(f'Output: {count}')\n",
    "    return count\n",
    "\n",
    "#countPairs([1, 3, 2, 2, 3, 4], 5); // Output: 2\n",
    "#countPairs([1, 1, 1, 1], 2); // Output: 1\n",
    "#countPairs([1, 2, 3, 4, 5], 7); // Output: 2\n",
    "\n",
    "countPairs([1, 3, 2, 2, 3, 4], 5);\n",
    "countPairs([1, 1, 1, 1], 2); \n",
    "countPairs([1, 2, 3, 4, 5], 7);"
   ]
  }
 ],
 "metadata": {
  "kernelspec": {
   "display_name": "dsnti",
   "language": "python",
   "name": "python3"
  },
  "language_info": {
   "codemirror_mode": {
    "name": "ipython",
    "version": 3
   },
   "file_extension": ".py",
   "mimetype": "text/x-python",
   "name": "python",
   "nbconvert_exporter": "python",
   "pygments_lexer": "ipython3",
   "version": "3.9.19"
  }
 },
 "nbformat": 4,
 "nbformat_minor": 2
}
